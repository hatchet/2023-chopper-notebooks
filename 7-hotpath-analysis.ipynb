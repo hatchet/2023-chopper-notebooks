{
 "cells": [
  {
   "cell_type": "code",
   "execution_count": null,
   "metadata": {},
   "outputs": [],
   "source": [
    "import hatchet as ht\n",
    "%load_ext hatchet.vis.loader\n",
    "\n",
    "gf_hotpath_analysis = ht.GraphFrame.from_hpctoolkit('/mnt/c/Users/onurc/Desktop/Work/Projects/chopper-scripts/lulesh-hpctoolkit-64-fdef-database-1')\n",
    "hotpath = gf_hotpath_analysis.hot_path(metric=\"REALTIME (sec) (I)\")\n",
    "\n",
    "# Adds hot path to columns and exc/inc metric.\n",
    "gf_hotpath_analysis2 = gf_hotpath_analysis.dataframe.reset_index()\n",
    "gf_hotpath_analysis2['hotpath'] = gf_hotpath_analysis2['node'].isin(hotpath).astype(int)\n",
    "gf_hotpath_analysis2 = gf_hotpath_analysis2.set_index(['node','rank'])\n",
    "gf_hotpath_analysis.dataframe = gf_hotpath_analysis2\n",
    "gf_hotpath_analysis.inc_metrics.append('hotpath')\n",
    "gf_hotpath_analysis.exc_metrics.append('hotpath')\n",
    "\n",
    "%cct gf_hotpath_analysis"
   ]
  }
 ],
 "metadata": {
  "kernelspec": {
   "display_name": "Python 3",
   "language": "python",
   "name": "python3"
  },
  "language_info": {
   "codemirror_mode": {
    "name": "ipython",
    "version": 3
   },
   "file_extension": ".py",
   "mimetype": "text/x-python",
   "name": "python",
   "nbconvert_exporter": "python",
   "pygments_lexer": "ipython3",
   "version": "3.7.7"
  }
 },
 "nbformat": 4,
 "nbformat_minor": 2
}
