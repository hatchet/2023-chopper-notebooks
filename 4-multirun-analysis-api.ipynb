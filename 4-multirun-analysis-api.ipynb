{
 "cells": [
  {
   "cell_type": "code",
   "execution_count": 1,
   "metadata": {},
   "outputs": [
    {
     "data": {
      "text/html": [
       "<div>\n",
       "<style scoped>\n",
       "    .dataframe tbody tr th:only-of-type {\n",
       "        vertical-align: middle;\n",
       "    }\n",
       "\n",
       "    .dataframe tbody tr th {\n",
       "        vertical-align: top;\n",
       "    }\n",
       "\n",
       "    .dataframe thead th {\n",
       "        text-align: right;\n",
       "    }\n",
       "</style>\n",
       "<table border=\"1\" class=\"dataframe\">\n",
       "  <thead>\n",
       "    <tr style=\"text-align: right;\">\n",
       "      <th>name</th>\n",
       "      <th>ApplyMaterialPropertiesForElems</th>\n",
       "      <th>CalcCourantConstraintForElems</th>\n",
       "    </tr>\n",
       "    <tr>\n",
       "      <th>num_processes</th>\n",
       "      <th></th>\n",
       "      <th></th>\n",
       "    </tr>\n",
       "  </thead>\n",
       "  <tbody>\n",
       "    <tr>\n",
       "      <th>64</th>\n",
       "      <td>113855.218750</td>\n",
       "      <td>156789.062500</td>\n",
       "    </tr>\n",
       "    <tr>\n",
       "      <th>125</th>\n",
       "      <td>116310.152000</td>\n",
       "      <td>160260.144000</td>\n",
       "    </tr>\n",
       "    <tr>\n",
       "      <th>216</th>\n",
       "      <td>109526.486111</td>\n",
       "      <td>149029.203704</td>\n",
       "    </tr>\n",
       "    <tr>\n",
       "      <th>512</th>\n",
       "      <td>114336.773438</td>\n",
       "      <td>157073.449219</td>\n",
       "    </tr>\n",
       "  </tbody>\n",
       "</table>\n",
       "</div>"
      ],
      "text/plain": [
       "name           ApplyMaterialPropertiesForElems  CalcCourantConstraintForElems\n",
       "num_processes                                                                \n",
       "64                               113855.218750                  156789.062500\n",
       "125                              116310.152000                  160260.144000\n",
       "216                              109526.486111                  149029.203704\n",
       "512                              114336.773438                  157073.449219"
      ]
     },
     "metadata": {},
     "output_type": "display_data"
    }
   ],
   "source": [
    "import hatchet as ht\n",
    "import glob\n",
    "import re\n",
    "\n",
    "profiles = glob.glob(\n",
    "    \"/home/ocankur/research/research-code/hatchet-aditya-tomar/hatchet-tutorial/data/lulesh-scaling/chopper-example/*\"\n",
    ")\n",
    "\n",
    "graphframes = ht.GraphFrame.construct_from(profiles)\n",
    "\n",
    "# the user has to use update_metadata\n",
    "profile_gf = dict(zip(profiles, graphframes))\n",
    "for profile, gf in profile_gf.items():\n",
    "    num_pes = re.match(\"(.*)-(\\d+)(.*)\", profile).group(2)\n",
    "    gf.update_metadata(int(num_pes))\n",
    "    \n",
    "multirun_res = ht.Chopper.multirun_analysis(\n",
    "    graphframes,\n",
    ")\n",
    "display(multirun_res[multirun_res.columns[0:2]])"
   ]
  }
 ],
 "metadata": {
  "kernelspec": {
   "display_name": "Python 3",
   "language": "python",
   "name": "python3"
  },
  "language_info": {
   "codemirror_mode": {
    "name": "ipython",
    "version": 3
   },
   "file_extension": ".py",
   "mimetype": "text/x-python",
   "name": "python",
   "nbconvert_exporter": "python",
   "pygments_lexer": "ipython3",
   "version": "3.7.7"
  }
 },
 "nbformat": 4,
 "nbformat_minor": 2
}
